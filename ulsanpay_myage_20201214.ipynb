{
 "cells": [
  {
   "cell_type": "code",
   "execution_count": 120,
   "metadata": {},
   "outputs": [
    {
     "data": {
      "text/html": [
       "<div>\n",
       "<style scoped>\n",
       "    .dataframe tbody tr th:only-of-type {\n",
       "        vertical-align: middle;\n",
       "    }\n",
       "\n",
       "    .dataframe tbody tr th {\n",
       "        vertical-align: top;\n",
       "    }\n",
       "\n",
       "    .dataframe thead th {\n",
       "        text-align: right;\n",
       "    }\n",
       "</style>\n",
       "<table border=\"1\" class=\"dataframe\">\n",
       "  <thead>\n",
       "    <tr style=\"text-align: right;\">\n",
       "      <th></th>\n",
       "      <th>고객 생년월일</th>\n",
       "      <th>승인시간</th>\n",
       "      <th>승인일자</th>\n",
       "      <th>거래금액</th>\n",
       "      <th>카테고리</th>\n",
       "      <th>승인시간2</th>\n",
       "      <th>승인월</th>\n",
       "      <th>나이</th>\n",
       "      <th>연령대</th>\n",
       "      <th>고객성별</th>\n",
       "    </tr>\n",
       "  </thead>\n",
       "  <tbody>\n",
       "    <tr>\n",
       "      <th>0</th>\n",
       "      <td>1977</td>\n",
       "      <td>184905</td>\n",
       "      <td>20200104</td>\n",
       "      <td>95000</td>\n",
       "      <td>미용/뷰티/위생</td>\n",
       "      <td>18</td>\n",
       "      <td>1</td>\n",
       "      <td>44</td>\n",
       "      <td>40</td>\n",
       "      <td>남</td>\n",
       "    </tr>\n",
       "    <tr>\n",
       "      <th>1</th>\n",
       "      <td>1963</td>\n",
       "      <td>124115</td>\n",
       "      <td>20200102</td>\n",
       "      <td>2500</td>\n",
       "      <td>분식</td>\n",
       "      <td>12</td>\n",
       "      <td>1</td>\n",
       "      <td>58</td>\n",
       "      <td>50</td>\n",
       "      <td>여</td>\n",
       "    </tr>\n",
       "    <tr>\n",
       "      <th>2</th>\n",
       "      <td>1986</td>\n",
       "      <td>134644</td>\n",
       "      <td>20200102</td>\n",
       "      <td>7000</td>\n",
       "      <td>분식</td>\n",
       "      <td>13</td>\n",
       "      <td>1</td>\n",
       "      <td>35</td>\n",
       "      <td>30</td>\n",
       "      <td>여</td>\n",
       "    </tr>\n",
       "    <tr>\n",
       "      <th>3</th>\n",
       "      <td>1982</td>\n",
       "      <td>121408</td>\n",
       "      <td>20200102</td>\n",
       "      <td>8000</td>\n",
       "      <td>분식</td>\n",
       "      <td>12</td>\n",
       "      <td>1</td>\n",
       "      <td>39</td>\n",
       "      <td>30</td>\n",
       "      <td>남</td>\n",
       "    </tr>\n",
       "    <tr>\n",
       "      <th>4</th>\n",
       "      <td>1980</td>\n",
       "      <td>115700</td>\n",
       "      <td>20200104</td>\n",
       "      <td>17000</td>\n",
       "      <td>분식</td>\n",
       "      <td>11</td>\n",
       "      <td>1</td>\n",
       "      <td>41</td>\n",
       "      <td>40</td>\n",
       "      <td>남</td>\n",
       "    </tr>\n",
       "    <tr>\n",
       "      <th>...</th>\n",
       "      <td>...</td>\n",
       "      <td>...</td>\n",
       "      <td>...</td>\n",
       "      <td>...</td>\n",
       "      <td>...</td>\n",
       "      <td>...</td>\n",
       "      <td>...</td>\n",
       "      <td>...</td>\n",
       "      <td>...</td>\n",
       "      <td>...</td>\n",
       "    </tr>\n",
       "    <tr>\n",
       "      <th>172215</th>\n",
       "      <td>1964</td>\n",
       "      <td>160128</td>\n",
       "      <td>20200221</td>\n",
       "      <td>32000</td>\n",
       "      <td>일반음식점</td>\n",
       "      <td>16</td>\n",
       "      <td>2</td>\n",
       "      <td>57</td>\n",
       "      <td>50</td>\n",
       "      <td>여</td>\n",
       "    </tr>\n",
       "    <tr>\n",
       "      <th>172216</th>\n",
       "      <td>1964</td>\n",
       "      <td>142158</td>\n",
       "      <td>20200225</td>\n",
       "      <td>10000</td>\n",
       "      <td>일반음식점</td>\n",
       "      <td>14</td>\n",
       "      <td>2</td>\n",
       "      <td>57</td>\n",
       "      <td>50</td>\n",
       "      <td>여</td>\n",
       "    </tr>\n",
       "    <tr>\n",
       "      <th>172217</th>\n",
       "      <td>1964</td>\n",
       "      <td>142246</td>\n",
       "      <td>20200225</td>\n",
       "      <td>10000</td>\n",
       "      <td>일반음식점</td>\n",
       "      <td>14</td>\n",
       "      <td>2</td>\n",
       "      <td>57</td>\n",
       "      <td>50</td>\n",
       "      <td>여</td>\n",
       "    </tr>\n",
       "    <tr>\n",
       "      <th>172218</th>\n",
       "      <td>1964</td>\n",
       "      <td>184133</td>\n",
       "      <td>20200226</td>\n",
       "      <td>5000</td>\n",
       "      <td>일반음식점</td>\n",
       "      <td>18</td>\n",
       "      <td>2</td>\n",
       "      <td>57</td>\n",
       "      <td>50</td>\n",
       "      <td>여</td>\n",
       "    </tr>\n",
       "    <tr>\n",
       "      <th>172219</th>\n",
       "      <td>1964</td>\n",
       "      <td>150324</td>\n",
       "      <td>20200227</td>\n",
       "      <td>11500</td>\n",
       "      <td>일반음식점</td>\n",
       "      <td>15</td>\n",
       "      <td>2</td>\n",
       "      <td>57</td>\n",
       "      <td>50</td>\n",
       "      <td>여</td>\n",
       "    </tr>\n",
       "  </tbody>\n",
       "</table>\n",
       "<p>172220 rows × 10 columns</p>\n",
       "</div>"
      ],
      "text/plain": [
       "        고객 생년월일    승인시간      승인일자   거래금액      카테고리 승인시간2 승인월  나이  연령대 고객성별\n",
       "0          1977  184905  20200104  95000  미용/뷰티/위생    18   1  44   40    남\n",
       "1          1963  124115  20200102   2500        분식    12   1  58   50    여\n",
       "2          1986  134644  20200102   7000        분식    13   1  35   30    여\n",
       "3          1982  121408  20200102   8000        분식    12   1  39   30    남\n",
       "4          1980  115700  20200104  17000        분식    11   1  41   40    남\n",
       "...         ...     ...       ...    ...       ...   ...  ..  ..  ...  ...\n",
       "172215     1964  160128  20200221  32000     일반음식점    16   2  57   50    여\n",
       "172216     1964  142158  20200225  10000     일반음식점    14   2  57   50    여\n",
       "172217     1964  142246  20200225  10000     일반음식점    14   2  57   50    여\n",
       "172218     1964  184133  20200226   5000     일반음식점    18   2  57   50    여\n",
       "172219     1964  150324  20200227  11500     일반음식점    15   2  57   50    여\n",
       "\n",
       "[172220 rows x 10 columns]"
      ]
     },
     "execution_count": 120,
     "metadata": {},
     "output_type": "execute_result"
    }
   ],
   "source": [
    "import numpy as np\n",
    "import pandas as pd\n",
    "import matplotlib.pyplot as plt\n",
    "import datetime\n",
    "import seaborn as sns\n",
    "\n",
    "#그래프그릴때 한글폰트지원\n",
    "import matplotlib.font_manager as fm\n",
    "font_name = fm.FontProperties(fname=\"c:/Windows/Fonts/malgun.ttf\").get_name()\n",
    "plt.rc('font', family=font_name)\n",
    "\n",
    "#자료 불러오기\n",
    "df=pd.read_csv('2020년 1월_2월.csv')\n",
    "\n",
    "\n",
    "# 승인시간 추출 : 승인시간 2 \n",
    "df['승인시간'] = df['승인시간'].apply(str) #승인시간을 문자로\n",
    "df['승인시간'] = df['승인시간'].str.zfill(6) #6자리 빈칸은 0으로 채우기\n",
    "df['승인시간2'] = df['승인시간'].str[0:2] #앞 두자리 슬라이싱\n",
    "\n",
    "# 승인일자 추출 : 승인일자 \n",
    "df['승인일자'] = df['승인일자'].apply(str)\n",
    "df['승인월'] = df['승인일자'].str[5:6]\n",
    "\n",
    "#생년을 나이로 바꾸어 열추가하기\n",
    "df['나이']=2020-(df['고객 생년월일'])+1\n",
    "\n",
    "# 나이로 연령대 열 추가하기\n",
    "df['연령대']=np.trunc((df['나이'])/10)*10\n",
    "df=df.astype({'연령대':int})\n",
    "\n",
    "\n",
    "#남여 이름 바꾸기\n",
    "gender_map= {'M':'남', 'F':'여'}\n",
    "df['고객성별'] = df['고객 성별'].apply(lambda x : gender_map[x])\n",
    "\n",
    "# 불필요 열삭제 \n",
    "del df['가맹점ID'], df['고객 성별'], df['가맹점명'], df['가맹점주(가입자)'], df['고객명'], df['승인번호']\n",
    "\n",
    "# 카테고리 분류 변경 \n",
    "df['카테고리'].replace('가구판매점','슈퍼/마트', inplace=True)\n",
    "df['카테고리'].replace('가발','미용/뷰티/위생', inplace=True)\n",
    "df['카테고리'].replace('가방.핸드백','의류/잡화/안경', inplace=True)\n",
    "df['카테고리'].replace('가전/통신','가전/통신', inplace=True)\n",
    "df['카테고리'].replace('가전제품','가전/통신', inplace=True)\n",
    "df['카테고리'].replace('건강보조식품','스포츠/헬스', inplace=True)\n",
    "df['카테고리'].replace('골프연습장','스포츠/헬스', inplace=True)\n",
    "df['카테고리'].replace('교복','의류/잡화/안경', inplace=True)\n",
    "df['카테고리'].replace('교육 및 교구','학원/교육', inplace=True)\n",
    "df['카테고리'].replace('구두.신발','의류/잡화/안경', inplace=True)\n",
    "df['카테고리'].replace('기계.장비(기타)','기타', inplace=True)\n",
    "df['카테고리'].replace('기술.직업훈련학원','학원/교육', inplace=True)\n",
    "df['카테고리'].replace('기타','기타', inplace=True)\n",
    "df['카테고리'].replace('기타 가정.주방용품','의류/잡화/안경', inplace=True)\n",
    "df['카테고리'].replace('기타 건축자재','의류/잡화/안경', inplace=True)\n",
    "df['카테고리'].replace('기타 교육.교습.학원','학원/교육', inplace=True)\n",
    "df['카테고리'].replace('기타 대인서비스','기타', inplace=True)\n",
    "df['카테고리'].replace('기타 레저,스포츠용품','스포츠/헬스', inplace=True)\n",
    "df['카테고리'].replace('기타 상품 판매점','슈퍼/마트', inplace=True)\n",
    "df['카테고리'].replace('기타 서비스','기타', inplace=True)\n",
    "df['카테고리'].replace('기타 수리.수선전문','전통시장/상점가', inplace=True)\n",
    "df['카테고리'].replace('기타 숙박업소','숙박/캠핑', inplace=True)\n",
    "df['카테고리'].replace('기타 식음료품','전통시장/상점가', inplace=True)\n",
    "df['카테고리'].replace('기타 약품.의료기기','병원/약국', inplace=True)\n",
    "df['카테고리'].replace('기타 연료판매','자동차/자전거', inplace=True)\n",
    "df['카테고리'].replace('기타 오락.휴식시설','도서/문화/공연', inplace=True)\n",
    "df['카테고리'].replace('기타 음식점','일반음식점', inplace=True)\n",
    "df['카테고리'].replace('기타 의료업','병원/약국', inplace=True)\n",
    "df['카테고리'].replace('기타 잡화','의류/잡화/안경', inplace=True)\n",
    "df['카테고리'].replace('기타 장비임대','전통시장/상점가', inplace=True)\n",
    "df['카테고리'].replace('기타 전문서비스','기타', inplace=True)\n",
    "df['카테고리'].replace('기타 종합소매점','슈퍼/마트', inplace=True)\n",
    "df['카테고리'].replace('기타 취미.레저.스포츠','스포츠/헬스', inplace=True)\n",
    "df['카테고리'].replace('내과','병원/약국', inplace=True)\n",
    "df['카테고리'].replace('내의류','의류/잡화/안경', inplace=True)\n",
    "df['카테고리'].replace('노래방','전통시장/상점가', inplace=True)\n",
    "df['카테고리'].replace('농산물,청과물','전통시장/상점가', inplace=True)\n",
    "df['카테고리'].replace('농수축협직판장','슈퍼/마트', inplace=True)\n",
    "df['카테고리'].replace('농협식품전문점','슈퍼/마트', inplace=True)\n",
    "df['카테고리'].replace('당구장','스포츠/헬스', inplace=True)\n",
    "df['카테고리'].replace('도서/문화/공연','도서/문화/공연', inplace=True)\n",
    "df['카테고리'].replace('동물병원','병원/약국', inplace=True)\n",
    "df['카테고리'].replace('레저','레저', inplace=True)\n",
    "df['카테고리'].replace('레저용 숙박업소','레저', inplace=True)\n",
    "df['카테고리'].replace('무술도장','스포츠/헬스', inplace=True)\n",
    "df['카테고리'].replace('문구,사무용품','의류/잡화/안경', inplace=True)\n",
    "df['카테고리'].replace('미용/뷰티/위생','미용/뷰티/위생', inplace=True)\n",
    "df['카테고리'].replace('미용실(두발전문)','미용/뷰티/위생', inplace=True)\n",
    "df['카테고리'].replace('미용재료','미용/뷰티/위생', inplace=True)\n",
    "df['카테고리'].replace('민예품,공예품','의류/잡화/안경', inplace=True)\n",
    "df['카테고리'].replace('병원/약국','병원/약국', inplace=True)\n",
    "df['카테고리'].replace('보일러,펌프,샷시','부동산/인테리어', inplace=True)\n",
    "df['카테고리'].replace('부동산 중개','부동산/인테리어', inplace=True)\n",
    "df['카테고리'].replace('부동산/인테리어','부동산/인테리어', inplace=True)\n",
    "df['카테고리'].replace('분식','분식', inplace=True)\n",
    "df['카테고리'].replace('뷔페.출장연회','일반음식점', inplace=True)\n",
    "df['카테고리'].replace('비료.사료.종자','전통시장/상점가', inplace=True)\n",
    "df['카테고리'].replace('사우나.목욕탕.찜질방','미용/뷰티/위생', inplace=True)\n",
    "df['카테고리'].replace('사진관. 현상소','전통시장/상점가', inplace=True)\n",
    "df['카테고리'].replace('산모/육아','병원/약국', inplace=True)\n",
    "df['카테고리'].replace('산부인과','병원/약국', inplace=True)\n",
    "df['카테고리'].replace('산후조리원','병원/약국', inplace=True)\n",
    "df['카테고리'].replace('서양식전문점','일반음식점', inplace=True)\n",
    "df['카테고리'].replace('서적','도서/문화/공연', inplace=True)\n",
    "df['카테고리'].replace('성형외과','병원/약국', inplace=True)\n",
    "df['카테고리'].replace('세차장','자동차/자전거', inplace=True)\n",
    "df['카테고리'].replace('세탁업','의류/잡화/안경', inplace=True)\n",
    "df['카테고리'].replace('소비조합(구내매점)','슈퍼/마트', inplace=True)\n",
    "df['카테고리'].replace('소아과','병원/약국', inplace=True)\n",
    "df['카테고리'].replace('수산물,건어물','전통시장/상점가', inplace=True)\n",
    "df['카테고리'].replace('숙박/캠핑','숙박/캠핑', inplace=True)\n",
    "df['카테고리'].replace('슈퍼/마트','슈퍼/마트', inplace=True)\n",
    "df['카테고리'].replace('슈퍼마켓.마트','슈퍼/마트', inplace=True)\n",
    "df['카테고리'].replace('스포츠/헬스','스포츠/헬스', inplace=True)\n",
    "df['카테고리'].replace('시계. 귀금속','전통시장/상점가', inplace=True)\n",
    "df['카테고리'].replace('시장/거리','전통시장/상점가', inplace=True)\n",
    "df['카테고리'].replace('식음료(기타)','일반음식점', inplace=True)\n",
    "df['카테고리'].replace('신경정신과','병원/약국', inplace=True)\n",
    "df['카테고리'].replace('실내장식 (인테리어)','부동산/인테리어', inplace=True)\n",
    "df['카테고리'].replace('아동.유아복','의류/잡화/안경', inplace=True)\n",
    "df['카테고리'].replace('아이스크림전문점','일반음식점', inplace=True)\n",
    "df['카테고리'].replace('악기 판매점','전통시장/상점가', inplace=True)\n",
    "df['카테고리'].replace('안경.광학제품','의류/잡화/안경', inplace=True)\n",
    "df['카테고리'].replace('안과','병원/약국', inplace=True)\n",
    "df['카테고리'].replace('애완동물,용품','전통시장/상점가', inplace=True)\n",
    "df['카테고리'].replace('약국','병원/약국', inplace=True)\n",
    "df['카테고리'].replace('여행사','레저', inplace=True)\n",
    "df['카테고리'].replace('영화.공연장','도서/문화/공연', inplace=True)\n",
    "df['카테고리'].replace('예식장','전통시장/상점가', inplace=True)\n",
    "df['카테고리'].replace('예체능 계열 학원','학원/교육', inplace=True)\n",
    "df['카테고리'].replace('오토바이','자동차/자전거', inplace=True)\n",
    "df['카테고리'].replace('완구','전통시장/상점가', inplace=True)\n",
    "df['카테고리'].replace('외과','병원/약국', inplace=True)\n",
    "df['카테고리'].replace('외국어학원','학원/교육', inplace=True)\n",
    "df['카테고리'].replace('요양.보육.복지시설','병원/약국', inplace=True)\n",
    "df['카테고리'].replace('요양병원','병원/약국', inplace=True)\n",
    "df['카테고리'].replace('의류/잡화/안경','의류/잡화/안경', inplace=True)\n",
    "df['카테고리'].replace('의류관련(기타)','의류/잡화/안경', inplace=True)\n",
    "df['카테고리'].replace('의약품판매','병원/약국', inplace=True)\n",
    "df['카테고리'].replace('이발소','미용/뷰티/위생', inplace=True)\n",
    "df['카테고리'].replace('이비인후과','병원/약국', inplace=True)\n",
    "df['카테고리'].replace('인삼 전문점','전통시장/상점가', inplace=True)\n",
    "df['카테고리'].replace('일반병원','병원/약국', inplace=True)\n",
    "df['카테고리'].replace('일반음식점','일반음식점', inplace=True)\n",
    "df['카테고리'].replace('일반의류','의류/잡화/안경', inplace=True)\n",
    "df['카테고리'].replace('일식전문점','일반음식점', inplace=True)\n",
    "df['카테고리'].replace('입시학원,보습학원','학원/교육', inplace=True)\n",
    "df['카테고리'].replace('자동차/자전거','자동차/자전거', inplace=True)\n",
    "df['카테고리'].replace('자동차운전학원','자동차/자전거', inplace=True)\n",
    "df['카테고리'].replace('자동차정비','자동차/자전거', inplace=True)\n",
    "df['카테고리'].replace('자전거','자동차/자전거', inplace=True)\n",
    "df['카테고리'].replace('전문 스포츠용품점','스포츠/헬스', inplace=True)\n",
    "df['카테고리'].replace('전통시장/상점가','전통시장/상점가', inplace=True)\n",
    "df['카테고리'].replace('정수기.비데','전통시장/상점가', inplace=True)\n",
    "df['카테고리'].replace('정형외과','병원/약국', inplace=True)\n",
    "df['카테고리'].replace('제과.제빵','일반음식점', inplace=True)\n",
    "df['카테고리'].replace('조명기구. 전기','전통시장/상점가', inplace=True)\n",
    "df['카테고리'].replace('종합 스포츠용품점','전통시장/상점가', inplace=True)\n",
    "df['카테고리'].replace('주차장.폐차장','자동차/자전거', inplace=True)\n",
    "df['카테고리'].replace('중고품 판매점','전통시장/상점가', inplace=True)\n",
    "df['카테고리'].replace('중식전문점','일반음식점', inplace=True)\n",
    "df['카테고리'].replace('차량부품.용품','자동차/자전거', inplace=True)\n",
    "df['카테고리'].replace('철재,사무용 가구','전통시장/상점가', inplace=True)\n",
    "df['카테고리'].replace('축산물,정육점','전통시장/상점가', inplace=True)\n",
    "df['카테고리'].replace('치과','병원/약국', inplace=True)\n",
    "df['카테고리'].replace('치킨전문점','일반음식점', inplace=True)\n",
    "df['카테고리'].replace('침구 및 수예품','전통시장/상점가', inplace=True)\n",
    "df['카테고리'].replace('카페/베이커리','일반음식점', inplace=True)\n",
    "df['카테고리'].replace('커튼.카펫.수건','전통시장/상점가', inplace=True)\n",
    "df['카테고리'].replace('커피전문점','일반음식점', inplace=True)\n",
    "df['카테고리'].replace('컴퓨터 및 소프트웨어','가전/통신', inplace=True)\n",
    "df['카테고리'].replace('타이어 판매점','자동차/자전거', inplace=True)\n",
    "df['카테고리'].replace('택배 서비스','전통시장/상점가', inplace=True)\n",
    "df['카테고리'].replace('테마파크(놀이시설)','도서/문화/공연', inplace=True)\n",
    "df['카테고리'].replace('통신기기','가전/통신', inplace=True)\n",
    "df['카테고리'].replace('판촉물.인쇄.복사','전통시장/상점가', inplace=True)\n",
    "df['카테고리'].replace('패스트푸드점','일반음식점', inplace=True)\n",
    "df['카테고리'].replace('편의점','슈퍼/마트', inplace=True)\n",
    "df['카테고리'].replace('피부.체형미 관리','미용/뷰티/위생', inplace=True)\n",
    "df['카테고리'].replace('피부과','병원/약국', inplace=True)\n",
    "df['카테고리'].replace('학원/교육','학원/교육', inplace=True)\n",
    "df['카테고리'].replace('한국인삼공사','전통시장/상점가', inplace=True)\n",
    "df['카테고리'].replace('한방병원','병원/약국', inplace=True)\n",
    "df['카테고리'].replace('한약방','병원/약국', inplace=True)\n",
    "df['카테고리'].replace('한의원','병원/약국', inplace=True)\n",
    "df['카테고리'].replace('헬스클럽','스포츠/헬스', inplace=True)\n",
    "df['카테고리'].replace('호텔 (특급외)','숙박/캠핑', inplace=True)\n",
    "df['카테고리'].replace('화방.표구점','전통시장/상점가', inplace=True)\n",
    "df['카테고리'].replace('화원.화초','전통시장/상점가', inplace=True)\n",
    "df['카테고리'].replace('화장품','미용/뷰티/위생', inplace=True)\n",
    "df"
   ]
  },
  {
   "cell_type": "code",
   "execution_count": 122,
   "metadata": {},
   "outputs": [],
   "source": [
    "df=df.astype({'승인일자':int})\n",
    "df=df.astype({'승인시간2':int})\n",
    "df=df.astype({'승인월':int})"
   ]
  },
  {
   "cell_type": "code",
   "execution_count": 251,
   "metadata": {},
   "outputs": [
    {
     "name": "stdout",
     "output_type": "stream",
     "text": [
      "            거래금액\n",
      "고객 생년월일         \n",
      "1940       37200\n",
      "1942      286300\n",
      "1943      161790\n",
      "1944     1588030\n",
      "1945     1541740\n",
      "...          ...\n",
      "2002     4875792\n",
      "2003     3050468\n",
      "2004     9096950\n",
      "2005     1544710\n",
      "2006       39250\n",
      "\n",
      "[66 rows x 1 columns]\n",
      "\n",
      "최대 거래 생년월일 :1979년생\n",
      "\n",
      "최소 거래 생년월일 :1940년생\n"
     ]
    },
    {
     "data": {
      "image/png": "[encoded data removed]",
      "text/plain": [
       "<Figure size 1440x1080 with 1 Axes>"
      ]
     },
     "metadata": {
      "needs_background": "light"
     },
     "output_type": "display_data"
    }
   ],
   "source": [
    "# 고객 생년월일별 거래금액 집계 \n",
    "totalyear = pd.pivot_table(df, index='고객 생년월일', values='거래금액', aggfunc=np.sum)\n",
    "print(totalyear)\n",
    "\n",
    "\n",
    "# 최대 생년월일 \n",
    "max = totalyear['거래금액'].idxmax()\n",
    "print('\\n최대 거래 생년월일 :'+ str(max) + '년생')\n",
    "\n",
    "# 최소 생년월일 \n",
    "min = totalyear['거래금액'].idxmin()\n",
    "print('\\n최소 거래 생년월일 :'+ str(min) + '년생')\n",
    "\n",
    "ax=totalyear.plot(kind='bar')"
   ]
  },
  {
   "cell_type": "code",
   "execution_count": 252,
   "metadata": {},
   "outputs": [
    {
     "name": "stdout",
     "output_type": "stream",
     "text": [
      "생년월일별 최대거래횟수는 1979년생으로.  고객 생년월일    8576\n",
      "승인시간       8576\n",
      "승인일자       8576\n",
      "거래금액       8576\n",
      "카테고리       8576\n",
      "승인시간2      8576\n",
      "승인월        8576\n",
      "나이         8576\n",
      "연령대        8576\n",
      "고객성별       8576\n",
      "dtype: int64 입니다.\n"
     ]
    }
   ],
   "source": [
    "# 고객 생년월일 컬럼을 선택합니다.\n",
    "# 컬럼의 값과 조건을 비교합니다.\n",
    "# 그 결과를 새로운 변수에 할당합니다.\n",
    "totalyear_1= df['고객 생년월일'] == 1979\n",
    "\n",
    "# 조건를 충족하는 데이터를 필터링하여 새로운 변수에 저장합니다.\n",
    "result_totalyear_1= df[totalyear_1]\n",
    "\n",
    "# 결과를 출력합니다.\n",
    "\n",
    "print(\"생년월일별 최대거래횟수는 1979년생으로\" ,result_totalyear_1.count(),\"입니다.\")"
   ]
  },
  {
   "cell_type": "code",
   "execution_count": 124,
   "metadata": {},
   "outputs": [
    {
     "data": {
      "text/plain": [
       "<AxesSubplot:title={'center':'생년월일별 거래횟수'}, xlabel='고객 생년월일', ylabel='count'>"
      ]
     },
     "execution_count": 124,
     "metadata": {},
     "output_type": "execute_result"
    },
    {
     "data": {
      "image/png": "[encoded data removed]",
      "text/plain": [
       "<Figure size 1440x576 with 1 Axes>"
      ]
     },
     "metadata": {
      "needs_background": "light"
     },
     "output_type": "display_data"
    }
   ],
   "source": [
    "#생년월일별 그래프로 시각화하기\n",
    "plt.rc('font', family='Malgun Gothic') # 한글 설정 \n",
    "plt.figure(figsize=(20,8)) #size 조절\n",
    "plt.xticks(rotation = 50) #x축 조절 \n",
    "plt.title('생년월일별 거래횟수', fontsize = 15)\n",
    "plt.xlabel(\"생년월일\", fontsize = 5)\n",
    "plt.ylabel(\"거래횟수\", fontsize = 10)\n",
    "sns.countplot(data=df, x=\"고객 생년월일\", hue=\"고객성별\")\n"
   ]
  },
  {
   "cell_type": "markdown",
   "metadata": {},
   "source": [
    "# * 생년월일별 남자 최대 거래횟수는  1979년생입니다.\n",
    "\n",
    "# * 생년월일별 여자 최대 거래횟수는  1980년생입니다."
   ]
  },
  {
   "cell_type": "code",
   "execution_count": 230,
   "metadata": {
    "scrolled": true
   },
   "outputs": [
    {
     "data": {
      "text/plain": [
       "Text(0, 0.5, '거래금액합(단위:억원)')"
      ]
     },
     "execution_count": 230,
     "metadata": {},
     "output_type": "execute_result"
    },
    {
     "data": {
      "text/plain": [
       "<Figure size 1440x1080 with 0 Axes>"
      ]
     },
     "metadata": {},
     "output_type": "display_data"
    },
    {
     "data": {
      "image/png": "[encoded data removed]",
      "text/plain": [
       "<Figure size 1440x1080 with 1 Axes>"
      ]
     },
     "metadata": {
      "needs_background": "light"
     },
     "output_type": "display_data"
    }
   ],
   "source": [
    "df_year_1 = df.pivot_table(values='거래금액', index='고객 생년월일', columns='고객성별',aggfunc=sum, fill_value=0)\n",
    "df_year_1\n",
    "\n",
    "\n",
    "# 차트 설정 \n",
    "plt.figure(figsize=(20,15)) #size 조절\n",
    "ax=df_year_1 .plot(kind='bar')\n",
    "plt.xticks(rotation = 60) #x축 조절 \n",
    "ax.set_title(\"생년월일별 거래금액\") \n",
    "plt.ylabel(\"거래금액합(단위:억원)\", fontsize = 10)\n"
   ]
  },
  {
   "cell_type": "code",
   "execution_count": 253,
   "metadata": {},
   "outputs": [
    {
     "name": "stdout",
     "output_type": "stream",
     "text": [
      "생년월일별 최대거래금액 남자는 1979년생으로  110596680 원 입니다.\n"
     ]
    }
   ],
   "source": [
    "# 고객 생년월일 컬럼을 선택합니다.\n",
    "# 컬럼의 값과 조건을 비교합니다.\n",
    "# 그 결과를 새로운 변수에 할당합니다.\n",
    "df_year_2_1= df['고객 생년월일'] == 1979\n",
    "\n",
    "# 고객성별컬럼을 선택합니다.\n",
    "# 컬럼의 값과 조건을 비교합니다.\n",
    "# 그 결과를 새로운 변수에 할당합니다.\n",
    "df_year_2_2 = df['고객성별'] == '남'\n",
    "\n",
    "# 조건를 충족하는 데이터를 필터링하여 새로운 변수에 저장합니다.\n",
    "result_year_2= df[df_year_2_1 & df_year_2_2 ]\n",
    "\n",
    "# 결과를 출력합니다.\n",
    "\n",
    "print(\"생년월일별 최대거래금액 남자는 1979년생으로 \" ,result_year_2[\"거래금액\"].sum(),\"원 입니다.\")\n"
   ]
  },
  {
   "cell_type": "code",
   "execution_count": 254,
   "metadata": {},
   "outputs": [
    {
     "name": "stdout",
     "output_type": "stream",
     "text": [
      "생년월일별 최대거래금액 여자는 1979년생으로  180407210 원 입니다.\n"
     ]
    }
   ],
   "source": [
    "# 고객 생년월일 컬럼을 선택합니다.\n",
    "# 컬럼의 값과 조건을 비교합니다.\n",
    "# 그 결과를 새로운 변수에 할당합니다.\n",
    "df_year_3_1= df['고객 생년월일'] == 1979\n",
    "\n",
    "# 고객성별컬럼을 선택합니다.\n",
    "# 컬럼의 값과 조건을 비교합니다.\n",
    "# 그 결과를 새로운 변수에 할당합니다.\n",
    "df_year_3_2 = df['고객성별'] == '여'\n",
    "\n",
    "# 조건를 충족하는 데이터를 필터링하여 새로운 변수에 저장합니다.\n",
    "result_year_3= df[df_year_3_1 & df_year_3_2 ]\n",
    "\n",
    "# 결과를 출력합니다.\n",
    "\n",
    "print(\"생년월일별 최대거래금액 여자는 1979년생으로 \" ,result_year_3[\"거래금액\"].sum(),\"원 입니다.\")\n"
   ]
  },
  {
   "cell_type": "code",
   "execution_count": 200,
   "metadata": {
    "scrolled": false
   },
   "outputs": [
    {
     "name": "stdout",
     "output_type": "stream",
     "text": [
      "고객성별                 남              여\n",
      "고객 생년월일                              \n",
      "1940      37200.000000            NaN\n",
      "1942       4553.846154   16500.000000\n",
      "1943               NaN   11556.428571\n",
      "1944      26843.928571   36365.217391\n",
      "1945      32366.046512  150000.000000\n",
      "...                ...            ...\n",
      "2002     173804.000000   44193.690141\n",
      "2003       7611.323529   24122.838095\n",
      "2004     230347.058824   74015.000000\n",
      "2005      61403.571429   38058.888889\n",
      "2006       7850.000000            NaN\n",
      "\n",
      "[66 rows x 2 columns]\n"
     ]
    },
    {
     "data": {
      "text/plain": [
       "Text(0, 0.5, '거래금액합(단윈:억원)')"
      ]
     },
     "execution_count": 200,
     "metadata": {},
     "output_type": "execute_result"
    },
    {
     "data": {
      "text/plain": [
       "<Figure size 1440x1080 with 0 Axes>"
      ]
     },
     "metadata": {},
     "output_type": "display_data"
    },
    {
     "data": {
      "image/png": "[encoded data removed]",
      "text/plain": [
       "<Figure size 1440x1080 with 1 Axes>"
      ]
     },
     "metadata": {
      "needs_background": "light"
     },
     "output_type": "display_data"
    }
   ],
   "source": [
    "df_year_1_1 = df.pivot_table(values='거래금액', index='고객 생년월일', columns='고객성별',aggfunc=\"mean\")\n",
    "print(df_year_1_1)\n",
    "\n",
    "#차트 설정\n",
    "plt.figure(figsize=(20,15)) #size 조절 \n",
    "ax=df_year_1_1.plot(kind='bar') \n",
    "plt.xticks(rotation = 60) #x축 조절 \n",
    "ax.set_title(\"생년월일별 평균거래금액\") \n",
    "plt.ylabel(\"거래금액합(단윈:억원)\", fontsize = 10)"
   ]
  },
  {
   "cell_type": "code",
   "execution_count": 258,
   "metadata": {},
   "outputs": [
    {
     "name": "stdout",
     "output_type": "stream",
     "text": [
      "생년월일별 촤대평균거래금액은 2004년생 남자로  230347.0588235294 원 입니다.\n"
     ]
    }
   ],
   "source": [
    "# 고객 생년월일 컬럼을 선택합니다.\n",
    "# 컬럼의 값과 조건을 비교합니다.\n",
    "# 그 결과를 새로운 변수에 할당합니다.\n",
    "df_year_4_1= df['고객 생년월일'] == 2004\n",
    "\n",
    "# 고객성별컬럼을 선택합니다.\n",
    "# 컬럼의 값과 조건을 비교합니다.\n",
    "# 그 결과를 새로운 변수에 할당합니다.\n",
    "df_year_4_2 = df['고객성별'] == '남'\n",
    "\n",
    "# 조건를 충족하는 데이터를 필터링하여 새로운 변수에 저장합니다.\n",
    "result_year_4= df[df_year_4_1 & df_year_4_2 ]\n",
    "\n",
    "# 결과를 출력합니다.\n",
    "\n",
    "print(\"생년월일별 촤대평균거래금액은 2004년생 남자로 \" ,result_year_4[\"거래금액\"].mean(),\"원 입니다.\")"
   ]
  },
  {
   "cell_type": "code",
   "execution_count": 265,
   "metadata": {},
   "outputs": [
    {
     "name": "stdout",
     "output_type": "stream",
     "text": [
      "생년월일별 촤대평균거래금액은 1945년생 여자로  150000.0 원 입니다.\n"
     ]
    }
   ],
   "source": [
    "# 고객 생년월일 컬럼을 선택합니다.\n",
    "# 컬럼의 값과 조건을 비교합니다.\n",
    "# 그 결과를 새로운 변수에 할당합니다.\n",
    "df_year_5_1= df['고객 생년월일'] == 1945\n",
    "\n",
    "# 고객성별컬럼을 선택합니다.\n",
    "# 컬럼의 값과 조건을 비교합니다.\n",
    "# 그 결과를 새로운 변수에 할당합니다.\n",
    "df_year_5_2 = df['고객성별'] == '여'\n",
    "\n",
    "# 조건를 충족하는 데이터를 필터링하여 새로운 변수에 저장합니다.\n",
    "result_year_5= df[df_year_5_1 & df_year_5_2 ]\n",
    "\n",
    "# 결과를 출력합니다.\n",
    "\n",
    "print(\"생년월일별 촤대평균거래금액은 1945년생 여자로 \" ,result_year_5[\"거래금액\"].mean(),\"원 입니다.\")"
   ]
  },
  {
   "cell_type": "markdown",
   "metadata": {},
   "source": [
    "# * 생년월일별 평균최대거래금액 남자는 2004년생이다.\n",
    "\n",
    "# * 생년월일별 평균최대거래금액 여자는 1945년생이다.¶"
   ]
  },
  {
   "cell_type": "code",
   "execution_count": null,
   "metadata": {},
   "outputs": [],
   "source": []
  },
  {
   "cell_type": "code",
   "execution_count": 203,
   "metadata": {},
   "outputs": [
    {
     "data": {
      "text/plain": [
       "<AxesSubplot:title={'center':'연령대별 거래횟수'}, xlabel='연령대', ylabel='count'>"
      ]
     },
     "execution_count": 203,
     "metadata": {},
     "output_type": "execute_result"
    },
    {
     "data": {
      "image/png": "[encoded data removed]",
      "text/plain": [
       "<Figure size 1440x1080 with 1 Axes>"
      ]
     },
     "metadata": {
      "needs_background": "light"
     },
     "output_type": "display_data"
    }
   ],
   "source": [
    "#연령대별 남녀 거래횟수 그래프로 시각화하기\n",
    "plt.figure(figsize=(20,15)) #size 조절\n",
    "plt.title('연령대별 거래횟수', fontsize = 15)\n",
    "plt.xlabel('연령대', fontsize = 5)\n",
    "plt.ylabel(\"거래횟수\", fontsize = 10)\n",
    "sns.countplot(data=df, x=\"연령대\", hue=\"고객성별\")\n"
   ]
  },
  {
   "cell_type": "markdown",
   "metadata": {},
   "source": [
    "# * 연령대별 남자 최대 거래횟수는  40대입니다.\n",
    "\n",
    "# * 연령대별 여자 최대 거래횟수는  40대입니다."
   ]
  },
  {
   "cell_type": "code",
   "execution_count": 207,
   "metadata": {
    "scrolled": false
   },
   "outputs": [
    {
     "data": {
      "text/html": [
       "<div>\n",
       "<style scoped>\n",
       "    .dataframe tbody tr th:only-of-type {\n",
       "        vertical-align: middle;\n",
       "    }\n",
       "\n",
       "    .dataframe tbody tr th {\n",
       "        vertical-align: top;\n",
       "    }\n",
       "\n",
       "    .dataframe thead th {\n",
       "        text-align: right;\n",
       "    }\n",
       "</style>\n",
       "<table border=\"1\" class=\"dataframe\">\n",
       "  <thead>\n",
       "    <tr style=\"text-align: right;\">\n",
       "      <th>고객성별</th>\n",
       "      <th>남</th>\n",
       "      <th>여</th>\n",
       "    </tr>\n",
       "    <tr>\n",
       "      <th>연령대</th>\n",
       "      <th></th>\n",
       "      <th></th>\n",
       "    </tr>\n",
       "  </thead>\n",
       "  <tbody>\n",
       "    <tr>\n",
       "      <th>10</th>\n",
       "      <td>7070410</td>\n",
       "      <td>11536760</td>\n",
       "    </tr>\n",
       "    <tr>\n",
       "      <th>20</th>\n",
       "      <td>114747291</td>\n",
       "      <td>149442766</td>\n",
       "    </tr>\n",
       "    <tr>\n",
       "      <th>30</th>\n",
       "      <td>534929571</td>\n",
       "      <td>735635220</td>\n",
       "    </tr>\n",
       "    <tr>\n",
       "      <th>40</th>\n",
       "      <td>940007268</td>\n",
       "      <td>1390916636</td>\n",
       "    </tr>\n",
       "    <tr>\n",
       "      <th>50</th>\n",
       "      <td>532891712</td>\n",
       "      <td>583512045</td>\n",
       "    </tr>\n",
       "    <tr>\n",
       "      <th>60</th>\n",
       "      <td>138317190</td>\n",
       "      <td>134730990</td>\n",
       "    </tr>\n",
       "    <tr>\n",
       "      <th>70</th>\n",
       "      <td>15818150</td>\n",
       "      <td>14607950</td>\n",
       "    </tr>\n",
       "    <tr>\n",
       "      <th>80</th>\n",
       "      <td>37200</td>\n",
       "      <td>0</td>\n",
       "    </tr>\n",
       "  </tbody>\n",
       "</table>\n",
       "</div>"
      ],
      "text/plain": [
       "고객성별          남           여\n",
       "연령대                        \n",
       "10      7070410    11536760\n",
       "20    114747291   149442766\n",
       "30    534929571   735635220\n",
       "40    940007268  1390916636\n",
       "50    532891712   583512045\n",
       "60    138317190   134730990\n",
       "70     15818150    14607950\n",
       "80        37200           0"
      ]
     },
     "execution_count": 207,
     "metadata": {},
     "output_type": "execute_result"
    }
   ],
   "source": [
    "# 고객 연령대별 거래금액 집계 \n",
    "df_age = df.pivot_table(values='거래금액', index='연령대', columns='고객성별',aggfunc=sum, fill_value=0)\n",
    "df_age\n"
   ]
  },
  {
   "cell_type": "code",
   "execution_count": 209,
   "metadata": {},
   "outputs": [
    {
     "data": {
      "text/plain": [
       "Text(0, 0.5, '거래금액합(단위:10억원)')"
      ]
     },
     "execution_count": 209,
     "metadata": {},
     "output_type": "execute_result"
    },
    {
     "data": {
      "text/plain": [
       "<Figure size 1440x1080 with 0 Axes>"
      ]
     },
     "metadata": {},
     "output_type": "display_data"
    },
    {
     "data": {
      "image/png": "[encoded data removed]",
      "text/plain": [
       "<Figure size 1440x1080 with 1 Axes>"
      ]
     },
     "metadata": {
      "needs_background": "light"
     },
     "output_type": "display_data"
    }
   ],
   "source": [
    "#연령대별 남녀 거래금액 그래프로 시각화하기\n",
    "plt.figure(figsize=(20,15)) #size 조절\n",
    "ax=df_age.plot(kind='bar')\n",
    "ax.set_title(\"연령대별 거래금액\") \n",
    "plt.ylabel(\"거래금액합(단위:10억원)\", fontsize = 10)\n"
   ]
  },
  {
   "cell_type": "markdown",
   "metadata": {},
   "source": [
    "# * 최대 사용금액 연령대는 40대 여자입니다.\n"
   ]
  },
  {
   "cell_type": "code",
   "execution_count": 210,
   "metadata": {
    "scrolled": true
   },
   "outputs": [
    {
     "data": {
      "text/html": [
       "<div>\n",
       "<style scoped>\n",
       "    .dataframe tbody tr th:only-of-type {\n",
       "        vertical-align: middle;\n",
       "    }\n",
       "\n",
       "    .dataframe tbody tr th {\n",
       "        vertical-align: top;\n",
       "    }\n",
       "\n",
       "    .dataframe thead th {\n",
       "        text-align: right;\n",
       "    }\n",
       "</style>\n",
       "<table border=\"1\" class=\"dataframe\">\n",
       "  <thead>\n",
       "    <tr style=\"text-align: right;\">\n",
       "      <th>고객성별</th>\n",
       "      <th>남</th>\n",
       "      <th>여</th>\n",
       "    </tr>\n",
       "    <tr>\n",
       "      <th>연령대</th>\n",
       "      <th></th>\n",
       "      <th></th>\n",
       "    </tr>\n",
       "  </thead>\n",
       "  <tbody>\n",
       "    <tr>\n",
       "      <th>10</th>\n",
       "      <td>62021.140351</td>\n",
       "      <td>43699.848485</td>\n",
       "    </tr>\n",
       "    <tr>\n",
       "      <th>20</th>\n",
       "      <td>24238.971483</td>\n",
       "      <td>31329.720335</td>\n",
       "    </tr>\n",
       "    <tr>\n",
       "      <th>30</th>\n",
       "      <td>27016.645000</td>\n",
       "      <td>31675.646745</td>\n",
       "    </tr>\n",
       "    <tr>\n",
       "      <th>40</th>\n",
       "      <td>32014.415503</td>\n",
       "      <td>32787.625194</td>\n",
       "    </tr>\n",
       "    <tr>\n",
       "      <th>50</th>\n",
       "      <td>29062.593368</td>\n",
       "      <td>28606.336160</td>\n",
       "    </tr>\n",
       "    <tr>\n",
       "      <th>60</th>\n",
       "      <td>34639.917355</td>\n",
       "      <td>34361.384851</td>\n",
       "    </tr>\n",
       "    <tr>\n",
       "      <th>70</th>\n",
       "      <td>38865.233415</td>\n",
       "      <td>30818.459916</td>\n",
       "    </tr>\n",
       "    <tr>\n",
       "      <th>80</th>\n",
       "      <td>37200.000000</td>\n",
       "      <td>0.000000</td>\n",
       "    </tr>\n",
       "  </tbody>\n",
       "</table>\n",
       "</div>"
      ],
      "text/plain": [
       "고객성별             남             여\n",
       "연령대                             \n",
       "10    62021.140351  43699.848485\n",
       "20    24238.971483  31329.720335\n",
       "30    27016.645000  31675.646745\n",
       "40    32014.415503  32787.625194\n",
       "50    29062.593368  28606.336160\n",
       "60    34639.917355  34361.384851\n",
       "70    38865.233415  30818.459916\n",
       "80    37200.000000      0.000000"
      ]
     },
     "execution_count": 210,
     "metadata": {},
     "output_type": "execute_result"
    }
   ],
   "source": [
    "# 고객 연령대별 거래금액 집계 \n",
    "df_age_2 = df.pivot_table(values='거래금액', index='연령대', columns='고객성별',aggfunc=\"mean\" , fill_value=0)\n",
    "df_age_2"
   ]
  },
  {
   "cell_type": "code",
   "execution_count": 211,
   "metadata": {},
   "outputs": [
    {
     "data": {
      "text/plain": [
       "Text(0, 0.5, '거래금액합(단위:10억원)')"
      ]
     },
     "execution_count": 211,
     "metadata": {},
     "output_type": "execute_result"
    },
    {
     "data": {
      "text/plain": [
       "<Figure size 1440x1080 with 0 Axes>"
      ]
     },
     "metadata": {},
     "output_type": "display_data"
    },
    {
     "data": {
      "image/png": "[encoded data removed]",
      "text/plain": [
       "<Figure size 1440x1080 with 1 Axes>"
      ]
     },
     "metadata": {
      "needs_background": "light"
     },
     "output_type": "display_data"
    }
   ],
   "source": [
    "#연령대별 남녀 평균거래금액 그래프로 시각화하기\n",
    "plt.figure(figsize=(20,15)) #size 조절\n",
    "ax=df_age_2.plot(kind='bar')\n",
    "ax.set_title(\"연령대별 거래금액\") \n",
    "plt.ylabel(\"거래금액합(단위:10억원)\", fontsize = 10)"
   ]
  },
  {
   "cell_type": "markdown",
   "metadata": {},
   "source": [
    "# * 최대 사용금액 연령대는 10대 남자입니다."
   ]
  },
  {
   "cell_type": "code",
   "execution_count": 212,
   "metadata": {},
   "outputs": [
    {
     "data": {
      "text/html": [
       "<div>\n",
       "<style scoped>\n",
       "    .dataframe tbody tr th:only-of-type {\n",
       "        vertical-align: middle;\n",
       "    }\n",
       "\n",
       "    .dataframe tbody tr th {\n",
       "        vertical-align: top;\n",
       "    }\n",
       "\n",
       "    .dataframe thead th {\n",
       "        text-align: right;\n",
       "    }\n",
       "</style>\n",
       "<table border=\"1\" class=\"dataframe\">\n",
       "  <thead>\n",
       "    <tr style=\"text-align: right;\">\n",
       "      <th></th>\n",
       "      <th>연령별(2)</th>\n",
       "      <th>2020. 01</th>\n",
       "      <th>2020. 01.1</th>\n",
       "      <th>2020. 01.2</th>\n",
       "      <th>2020. 01.3</th>\n",
       "      <th>2020. 01.4</th>\n",
       "      <th>2020. 01.5</th>\n",
       "      <th>2020. 01.6</th>\n",
       "      <th>2020. 01.7</th>\n",
       "      <th>2020. 01.8</th>\n",
       "      <th>...</th>\n",
       "      <th>2020. 02.3</th>\n",
       "      <th>2020. 02.4</th>\n",
       "      <th>2020. 02.5</th>\n",
       "      <th>2020. 02.6</th>\n",
       "      <th>2020. 02.7</th>\n",
       "      <th>2020. 02.8</th>\n",
       "      <th>2020. 02.9</th>\n",
       "      <th>2020. 02.10</th>\n",
       "      <th>2020. 02.11</th>\n",
       "      <th>2020. 02.12</th>\n",
       "    </tr>\n",
       "  </thead>\n",
       "  <tbody>\n",
       "    <tr>\n",
       "      <th>0</th>\n",
       "      <td>연령별(2)</td>\n",
       "      <td>울산광역시</td>\n",
       "      <td>울산광역시</td>\n",
       "      <td>울산광역시</td>\n",
       "      <td>중구</td>\n",
       "      <td>중구</td>\n",
       "      <td>남구</td>\n",
       "      <td>남구</td>\n",
       "      <td>동구</td>\n",
       "      <td>동구</td>\n",
       "      <td>...</td>\n",
       "      <td>중구</td>\n",
       "      <td>중구</td>\n",
       "      <td>남구</td>\n",
       "      <td>남구</td>\n",
       "      <td>동구</td>\n",
       "      <td>동구</td>\n",
       "      <td>북구</td>\n",
       "      <td>북구</td>\n",
       "      <td>울주군</td>\n",
       "      <td>울주군</td>\n",
       "    </tr>\n",
       "    <tr>\n",
       "      <th>1</th>\n",
       "      <td>연령별(2)</td>\n",
       "      <td>계</td>\n",
       "      <td>남</td>\n",
       "      <td>여</td>\n",
       "      <td>남</td>\n",
       "      <td>여</td>\n",
       "      <td>남</td>\n",
       "      <td>여</td>\n",
       "      <td>남</td>\n",
       "      <td>여</td>\n",
       "      <td>...</td>\n",
       "      <td>남</td>\n",
       "      <td>여</td>\n",
       "      <td>남</td>\n",
       "      <td>여</td>\n",
       "      <td>남</td>\n",
       "      <td>여</td>\n",
       "      <td>남</td>\n",
       "      <td>여</td>\n",
       "      <td>남</td>\n",
       "      <td>여</td>\n",
       "    </tr>\n",
       "    <tr>\n",
       "      <th>2</th>\n",
       "      <td>소계</td>\n",
       "      <td>1147037</td>\n",
       "      <td>589233</td>\n",
       "      <td>557804</td>\n",
       "      <td>113235</td>\n",
       "      <td>109825</td>\n",
       "      <td>164993</td>\n",
       "      <td>158711</td>\n",
       "      <td>83217</td>\n",
       "      <td>76077</td>\n",
       "      <td>...</td>\n",
       "      <td>112874</td>\n",
       "      <td>109521</td>\n",
       "      <td>165069</td>\n",
       "      <td>158687</td>\n",
       "      <td>83004</td>\n",
       "      <td>75805</td>\n",
       "      <td>112835</td>\n",
       "      <td>105355</td>\n",
       "      <td>114844</td>\n",
       "      <td>107716</td>\n",
       "    </tr>\n",
       "    <tr>\n",
       "      <th>3</th>\n",
       "      <td>0세</td>\n",
       "      <td>7186</td>\n",
       "      <td>3619</td>\n",
       "      <td>3567</td>\n",
       "      <td>572</td>\n",
       "      <td>535</td>\n",
       "      <td>855</td>\n",
       "      <td>859</td>\n",
       "      <td>514</td>\n",
       "      <td>502</td>\n",
       "      <td>...</td>\n",
       "      <td>570</td>\n",
       "      <td>528</td>\n",
       "      <td>852</td>\n",
       "      <td>851</td>\n",
       "      <td>498</td>\n",
       "      <td>498</td>\n",
       "      <td>957</td>\n",
       "      <td>955</td>\n",
       "      <td>706</td>\n",
       "      <td>683</td>\n",
       "    </tr>\n",
       "    <tr>\n",
       "      <th>4</th>\n",
       "      <td>1세</td>\n",
       "      <td>8073</td>\n",
       "      <td>4151</td>\n",
       "      <td>3922</td>\n",
       "      <td>682</td>\n",
       "      <td>637</td>\n",
       "      <td>965</td>\n",
       "      <td>974</td>\n",
       "      <td>609</td>\n",
       "      <td>551</td>\n",
       "      <td>...</td>\n",
       "      <td>652</td>\n",
       "      <td>625</td>\n",
       "      <td>978</td>\n",
       "      <td>978</td>\n",
       "      <td>601</td>\n",
       "      <td>539</td>\n",
       "      <td>1114</td>\n",
       "      <td>1040</td>\n",
       "      <td>788</td>\n",
       "      <td>721</td>\n",
       "    </tr>\n",
       "    <tr>\n",
       "      <th>...</th>\n",
       "      <td>...</td>\n",
       "      <td>...</td>\n",
       "      <td>...</td>\n",
       "      <td>...</td>\n",
       "      <td>...</td>\n",
       "      <td>...</td>\n",
       "      <td>...</td>\n",
       "      <td>...</td>\n",
       "      <td>...</td>\n",
       "      <td>...</td>\n",
       "      <td>...</td>\n",
       "      <td>...</td>\n",
       "      <td>...</td>\n",
       "      <td>...</td>\n",
       "      <td>...</td>\n",
       "      <td>...</td>\n",
       "      <td>...</td>\n",
       "      <td>...</td>\n",
       "      <td>...</td>\n",
       "      <td>...</td>\n",
       "      <td>...</td>\n",
       "    </tr>\n",
       "    <tr>\n",
       "      <th>97</th>\n",
       "      <td>95세</td>\n",
       "      <td>179</td>\n",
       "      <td>26</td>\n",
       "      <td>153</td>\n",
       "      <td>3</td>\n",
       "      <td>27</td>\n",
       "      <td>9</td>\n",
       "      <td>37</td>\n",
       "      <td>4</td>\n",
       "      <td>22</td>\n",
       "      <td>...</td>\n",
       "      <td>3</td>\n",
       "      <td>28</td>\n",
       "      <td>10</td>\n",
       "      <td>41</td>\n",
       "      <td>4</td>\n",
       "      <td>21</td>\n",
       "      <td>4</td>\n",
       "      <td>19</td>\n",
       "      <td>6</td>\n",
       "      <td>52</td>\n",
       "    </tr>\n",
       "    <tr>\n",
       "      <th>98</th>\n",
       "      <td>96세</td>\n",
       "      <td>157</td>\n",
       "      <td>29</td>\n",
       "      <td>128</td>\n",
       "      <td>2</td>\n",
       "      <td>24</td>\n",
       "      <td>8</td>\n",
       "      <td>21</td>\n",
       "      <td>4</td>\n",
       "      <td>16</td>\n",
       "      <td>...</td>\n",
       "      <td>2</td>\n",
       "      <td>25</td>\n",
       "      <td>7</td>\n",
       "      <td>19</td>\n",
       "      <td>3</td>\n",
       "      <td>17</td>\n",
       "      <td>4</td>\n",
       "      <td>21</td>\n",
       "      <td>11</td>\n",
       "      <td>40</td>\n",
       "    </tr>\n",
       "    <tr>\n",
       "      <th>99</th>\n",
       "      <td>97세</td>\n",
       "      <td>102</td>\n",
       "      <td>9</td>\n",
       "      <td>93</td>\n",
       "      <td>1</td>\n",
       "      <td>21</td>\n",
       "      <td>2</td>\n",
       "      <td>13</td>\n",
       "      <td>2</td>\n",
       "      <td>14</td>\n",
       "      <td>...</td>\n",
       "      <td>2</td>\n",
       "      <td>20</td>\n",
       "      <td>3</td>\n",
       "      <td>15</td>\n",
       "      <td>2</td>\n",
       "      <td>15</td>\n",
       "      <td>1</td>\n",
       "      <td>15</td>\n",
       "      <td>4</td>\n",
       "      <td>32</td>\n",
       "    </tr>\n",
       "    <tr>\n",
       "      <th>100</th>\n",
       "      <td>98세</td>\n",
       "      <td>55</td>\n",
       "      <td>6</td>\n",
       "      <td>49</td>\n",
       "      <td>2</td>\n",
       "      <td>8</td>\n",
       "      <td>1</td>\n",
       "      <td>8</td>\n",
       "      <td>0</td>\n",
       "      <td>7</td>\n",
       "      <td>...</td>\n",
       "      <td>2</td>\n",
       "      <td>9</td>\n",
       "      <td>1</td>\n",
       "      <td>6</td>\n",
       "      <td>0</td>\n",
       "      <td>7</td>\n",
       "      <td>2</td>\n",
       "      <td>15</td>\n",
       "      <td>0</td>\n",
       "      <td>12</td>\n",
       "    </tr>\n",
       "    <tr>\n",
       "      <th>101</th>\n",
       "      <td>99세</td>\n",
       "      <td>42</td>\n",
       "      <td>10</td>\n",
       "      <td>32</td>\n",
       "      <td>5</td>\n",
       "      <td>9</td>\n",
       "      <td>0</td>\n",
       "      <td>5</td>\n",
       "      <td>2</td>\n",
       "      <td>8</td>\n",
       "      <td>...</td>\n",
       "      <td>3</td>\n",
       "      <td>10</td>\n",
       "      <td>0</td>\n",
       "      <td>6</td>\n",
       "      <td>2</td>\n",
       "      <td>6</td>\n",
       "      <td>3</td>\n",
       "      <td>8</td>\n",
       "      <td>1</td>\n",
       "      <td>5</td>\n",
       "    </tr>\n",
       "  </tbody>\n",
       "</table>\n",
       "<p>102 rows × 27 columns</p>\n",
       "</div>"
      ],
      "text/plain": [
       "     연령별(2) 2020. 01 2020. 01.1 2020. 01.2 2020. 01.3 2020. 01.4 2020. 01.5  \\\n",
       "0    연령별(2)    울산광역시      울산광역시      울산광역시         중구         중구         남구   \n",
       "1    연령별(2)        계          남          여          남          여          남   \n",
       "2        소계  1147037     589233     557804     113235     109825     164993   \n",
       "3        0세     7186       3619       3567        572        535        855   \n",
       "4        1세     8073       4151       3922        682        637        965   \n",
       "..      ...      ...        ...        ...        ...        ...        ...   \n",
       "97      95세      179         26        153          3         27          9   \n",
       "98      96세      157         29        128          2         24          8   \n",
       "99      97세      102          9         93          1         21          2   \n",
       "100     98세       55          6         49          2          8          1   \n",
       "101     99세       42         10         32          5          9          0   \n",
       "\n",
       "    2020. 01.6 2020. 01.7 2020. 01.8  ... 2020. 02.3 2020. 02.4 2020. 02.5  \\\n",
       "0           남구         동구         동구  ...         중구         중구         남구   \n",
       "1            여          남          여  ...          남          여          남   \n",
       "2       158711      83217      76077  ...     112874     109521     165069   \n",
       "3          859        514        502  ...        570        528        852   \n",
       "4          974        609        551  ...        652        625        978   \n",
       "..         ...        ...        ...  ...        ...        ...        ...   \n",
       "97          37          4         22  ...          3         28         10   \n",
       "98          21          4         16  ...          2         25          7   \n",
       "99          13          2         14  ...          2         20          3   \n",
       "100          8          0          7  ...          2          9          1   \n",
       "101          5          2          8  ...          3         10          0   \n",
       "\n",
       "    2020. 02.6 2020. 02.7 2020. 02.8 2020. 02.9 2020. 02.10 2020. 02.11  \\\n",
       "0           남구         동구         동구         북구          북구         울주군   \n",
       "1            여          남          여          남           여           남   \n",
       "2       158687      83004      75805     112835      105355      114844   \n",
       "3          851        498        498        957         955         706   \n",
       "4          978        601        539       1114        1040         788   \n",
       "..         ...        ...        ...        ...         ...         ...   \n",
       "97          41          4         21          4          19           6   \n",
       "98          19          3         17          4          21          11   \n",
       "99          15          2         15          1          15           4   \n",
       "100          6          0          7          2          15           0   \n",
       "101          6          2          6          3           8           1   \n",
       "\n",
       "    2020. 02.12  \n",
       "0           울주군  \n",
       "1             여  \n",
       "2        107716  \n",
       "3           683  \n",
       "4           721  \n",
       "..          ...  \n",
       "97           52  \n",
       "98           40  \n",
       "99           32  \n",
       "100          12  \n",
       "101           5  \n",
       "\n",
       "[102 rows x 27 columns]"
      ]
     },
     "execution_count": 212,
     "metadata": {},
     "output_type": "execute_result"
    }
   ],
   "source": [
    "df12=pd.read_csv('울산광역시_구·군별_연령별_주민등록인구_20201206194726_1.csv')\n",
    "df12"
   ]
  },
  {
   "cell_type": "code",
   "execution_count": null,
   "metadata": {},
   "outputs": [],
   "source": [
    "df12.drop(['연령별(2)', '2020. 01','2020. 02'], axis='columns', inplace=True)\n",
    "df12"
   ]
  },
  {
   "cell_type": "code",
   "execution_count": null,
   "metadata": {
    "scrolled": false
   },
   "outputs": [],
   "source": [
    "df12_1=df12.drop([0,1])\n",
    "\n",
    "df12_1.rename(columns={'2020. 01.1': '1월 남자', '2020. 01.2': '1월 여자','2020. 02.1':'2월 남자', '2020. 02.2': '2월 여자'}, inplace=True)\n",
    "df12_1['1월합']=df12_1['1월 남자']+df12_1['1월 여자']\n",
    "df12_1['2월합']=df12_1['2월 남자']+df12_1['2월 여자']\n",
    "df12_1['남 울산인구']=df12_1['1월 남자']+df12_1['2월 남자']\n",
    "df12_1['여 울산인구']=df12_1['1월 여자']+df12_1['2월 여자']\n",
    "df12_1.index=[1,2,3,4,5,6,7,8]\n",
    "df4=df12_1\n",
    "df4"
   ]
  },
  {
   "cell_type": "code",
   "execution_count": null,
   "metadata": {
    "scrolled": true
   },
   "outputs": [],
   "source": [
    "#각 연령대별 남녀거래금액의 합과 평균\n",
    "np.df=df.pivot_table(values='거래금액', index='연령대', columns='고객성별',aggfunc=['sum']) #데이터집계함수\n",
    "np.df=np.df.fillna('0')\n",
    "np.df.index=[1,2,3,4,5,6,7,8]\n",
    "df5"
   ]
  },
  {
   "cell_type": "code",
   "execution_count": null,
   "metadata": {},
   "outputs": [],
   "source": [
    "df6=df4.loc[[1,2,3,4,5,6,7,8],[\"연령별(1)\"]]\n",
    "df6"
   ]
  },
  {
   "cell_type": "code",
   "execution_count": null,
   "metadata": {
    "scrolled": false
   },
   "outputs": [],
   "source": [
    "corr = df[['고객 생년월일','승인일자','거래금액','승인시간2','승인월','나이','연령대']].corr(method='pearson')\n",
    "corr"
   ]
  },
  {
   "cell_type": "code",
   "execution_count": null,
   "metadata": {},
   "outputs": [],
   "source": [
    "sns.pairplot(df)"
   ]
  },
  {
   "cell_type": "code",
   "execution_count": null,
   "metadata": {},
   "outputs": [],
   "source": []
  }
 ],
 "metadata": {
  "kernelspec": {
   "display_name": "Python 3",
   "language": "python",
   "name": "python3"
  },
  "language_info": {
   "codemirror_mode": {
    "name": "ipython",
    "version": 3
   },
   "file_extension": ".py",
   "mimetype": "text/x-python",
   "name": "python",
   "nbconvert_exporter": "python",
   "pygments_lexer": "ipython3",
   "version": "3.8.5"
  }
 },
 "nbformat": 4,
 "nbformat_minor": 4
}
